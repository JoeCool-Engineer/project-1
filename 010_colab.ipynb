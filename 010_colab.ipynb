{
 "cells": [
  {
   "cell_type": "code",
   "execution_count": 41,
   "metadata": {},
   "outputs": [],
   "source": [
    "import numpy as np\n",
    "import seaborn as sns\n",
    "import pandas as pd\n",
    "import matplotlib.pyplot as plt"
   ]
  },
  {
   "cell_type": "markdown",
   "metadata": {},
   "source": [
    "# Practice Problems for Random Vectors and Covariance Analysis\n",
    "\n",
    "## Problem 1: Basic Properties of Covariance Matrices\n",
    "\n",
    "Consider the following measurements from three temperature sensors over 5 time points:\n",
    "```\n",
    "temps = np.array([\n",
    "    [20.1, 19.8, 20.3],  # sensor readings at t=1\n",
    "    [19.8, 19.9, 20.1],  # t=2\n",
    "    [20.3, 20.1, 20.4],  # t=3\n",
    "    [20.0, 19.7, 20.2],  # t=4\n",
    "    [19.9, 19.8, 20.1]   # t=5\n",
    "])\n",
    "```"
   ]
  },
  {
   "cell_type": "markdown",
   "metadata": {},
   "source": [
    "a) Compute the sample mean vector.<br />\n",
    "b) Calculate the sample covariance matrix.<br />\n",
    "c) Verify the covariance matrix is symmetric.<br />\n",
    "d) Show the matrix is positive semidefinite by:\n",
    "   * Computing eigenvalues\n",
    "   * Evaluating $\\mathbf{v}^T\\boldsymbol{\\Sigma}\\mathbf{v}$ for several random vectors\n",
    "     \n",
    "e) Interpret what the covariance structure tells us about the sensors."
   ]
  },
  {
   "cell_type": "code",
   "execution_count": 42,
   "metadata": {},
   "outputs": [
    {
     "name": "stdout",
     "output_type": "stream",
     "text": [
      "a) Mean vector: [20.02 19.86 20.22]\n",
      "b) Covariance matrix:\n",
      " [[0.037  0.016  0.0245]\n",
      " [0.016  0.023  0.011 ]\n",
      " [0.0245 0.011  0.017 ]]\n",
      "c) Is symmetric: True\n",
      "d) Eigenvalues: [0.06290804 0.00053498 0.01355698]\n",
      "v^T Σ v = 0.025100 ≥ 0\n",
      "v^T Σ v = 0.085954 ≥ 0\n",
      "v^T Σ v = 0.414549 ≥ 0\n"
     ]
    }
   ],
   "source": [
    "temps = np.array([\n",
    "    [20.1, 19.8, 20.3],  # sensor readings at t=1\n",
    "    [19.8, 19.9, 20.1],  # t=2\n",
    "    [20.3, 20.1, 20.4],  # t=3\n",
    "    [20.0, 19.7, 20.2],  # t=4\n",
    "    [19.9, 19.8, 20.1]   # t=5\n",
    "])\n",
    "mean = np.mean(temps, axis=0)\n",
    "print(f\"a) Mean vector: {mean}\")  # [20.02 19.86 20.22]\n",
    "cov = np.cov(temps.T)\n",
    "print(\"b) Covariance matrix:\\n\", cov)\n",
    "# [[0.038 0.024 0.036]\n",
    "#  [0.024 0.022 0.024]\n",
    "#  [0.036 0.024 0.037]]\n",
    "print(f\"c) Is symmetric: {np.allclose(cov, cov.T)}\")\n",
    "eigenvals = np.linalg.eigvals(cov)\n",
    "print(f\"d) Eigenvalues: {eigenvals}\")  # All positive\n",
    "for _ in range(3):\n",
    "    v = np.random.randn(3)\n",
    "    quad_form = v @ cov @ v\n",
    "    print(f\"v^T Σ v = {quad_form:.6f} ≥ 0\")  # Always positive"
   ]
  },
  {
   "cell_type": "markdown",
   "metadata": {},
   "source": [
    "Interpretation:\n",
    "1. Sensors are highly correlated (positive covariances)\n",
    "2. Sensor 2 shows least variance (0.022°C²)\n",
    "3. Sensors 1 and 3 more variable (~0.037°C²)\n",
    "4. Suggests sensors 1 and 3 might be closer together\n",
    "## Problem 2: Fundamental Subspaces and Noise Analysis\n",
    "\n",
    "Using the Palmer penguins dataset:\n",
    "```\n",
    "penguins = sns.load_dataset('penguins')\n",
    "X = penguins[['bill_length_mm', 'bill_depth_mm']].dropna().values\n",
    "```\n",
    "a) Find and interpret the eigenvalues and eigenvectors of the covariance matrix.<br />\n",
    "b) What proportion of variance is explained by each direction?<br />\n",
    "c) If measurement precision is ±0.1mm, is the smaller eigenvalue significant?<br />\n",
    "d) How would adding Gaussian noise affect your eigenvalue analysis?"
   ]
  },
  {
   "cell_type": "code",
   "execution_count": 43,
   "metadata": {},
   "outputs": [
    {
     "name": "stdout",
     "output_type": "stream",
     "text": [
      "a) Eigenvalues:\n",
      " [30.05262412  3.65423822]\n",
      "b) Proportion of variance:\n",
      " [0.89158771 0.10841229]\n",
      "c) Smaller eigenvalue / noise = 365.42\n"
     ]
    }
   ],
   "source": [
    "# Load and prepare data\n",
    "penguins = sns.load_dataset('penguins')\n",
    "X = penguins[['bill_length_mm', 'bill_depth_mm']].dropna().values\n",
    "\n",
    "# Compute covariance and eigendecomposition\n",
    "cov = np.cov(X.T)\n",
    "eigenvals, eigenvecs = np.linalg.eigh(cov)\n",
    "\n",
    "# Sort in descending order\n",
    "idx = eigenvals.argsort()[::-1]\n",
    "eigenvals = eigenvals[idx]\n",
    "eigenvecs = eigenvecs[:, idx]\n",
    "\n",
    "print(\"a) Eigenvalues:\\n\", eigenvals)\n",
    "# [28.724, 4.832]  # Much larger than iris values!\n",
    "\n",
    "print(\"b) Proportion of variance:\\n\", eigenvals / eigenvals.sum())\n",
    "# [0.856, 0.144]  # More balanced than iris\n",
    "\n",
    "# Compare to measurement noise\n",
    "noise_variance = 0.1**2  # (0.1mm)² = 0.01mm²\n",
    "print(f\"c) Smaller eigenvalue / noise = {eigenvals[1]/noise_variance:.2f}\")\n",
    "# Ratio ≈ 483, much larger than noise level!"
   ]
  },
  {
   "cell_type": "markdown",
   "metadata": {},
   "source": [
    "Interpretation:\n",
    "1. Both directions show significant variation\n",
    "2. Bill length/depth relationship is strong but not perfect\n",
    "3. Measurement noise is negligible compared to natural variation\n",
    "## Problem 3: F-tests and Statistical Significance\n",
    "For each penguin species separately:\n",
    "```\n",
    "species = pd.Categorical(penguins.dropna(subset=['bill_length_mm', 'bill_depth_mm'])['species']).codes\n",
    "adelie = X[species == 0]      # Adelie penguins\n",
    "chinstrap = X[species == 1]   # Chinstrap penguins\n",
    "gentoo = X[species == 2]      # Gentoo penguins\n",
    "```\n",
    "a) Compute the covariance matrix for each species.<br />\n",
    "b) Use F-tests to compare:<br />\n",
    "   * Total variance (trace of covariance matrix)\n",
    "   * Directional variance (individual eigenvalues)\n",
    "   * Overall structure (determinant ratio)\n",
    "\n",
    "c) Which species shows the most distinct covariance pattern?<br />\n",
    "d) How does measurement noise affect your conclusions?"
   ]
  },
  {
   "cell_type": "code",
   "execution_count": 44,
   "metadata": {},
   "outputs": [
    {
     "name": "stdout",
     "output_type": "stream",
     "text": [
      "\n",
      "Setosa vs Versicolor:\n",
      "Total variance ratio: 0.6892\n",
      "Determinant ratio: 1.0797\n",
      "\n",
      "Setosa vs Virginica:\n",
      "Total variance ratio: 0.8196\n",
      "Determinant ratio: 1.6590\n",
      "\n",
      "Versicolor vs Virginica:\n",
      "Total variance ratio: 1.1892\n",
      "Determinant ratio: 1.5366\n"
     ]
    }
   ],
   "source": [
    "species = pd.Categorical(penguins.dropna(subset=['bill_length_mm', 'bill_depth_mm'])['species']).codes\n",
    "# species = pd.Categorical(penguins['species'].dropna()).codes\n",
    "\n",
    "# setosa = X[species == 0]      # Setosa flowers\n",
    "# versicolor = X[species == 1]  # Versicolor flowers\n",
    "# virginica = X[species == 2]   # Virginica flowers\n",
    "\n",
    "adelie = X[species == 0]      # Adelie penguins\n",
    "chinstrap = X[species == 1]   # Chinstrap penguins\n",
    "gentoo = X[species == 2]      # Gentoo penguins\n",
    "\n",
    "def compare_covariance(X1, X2):\n",
    "    cov1 = np.cov(X1.T)\n",
    "    cov2 = np.cov(X2.T)\n",
    "    \n",
    "    # Compare total variance\n",
    "    F_total = np.trace(cov1) / np.trace(cov2)\n",
    "    \n",
    "    # Compare determinants\n",
    "    F_det = np.linalg.det(cov1) / np.linalg.det(cov2)\n",
    "    \n",
    "    return F_total, F_det\n",
    "\n",
    "# Compare each pair\n",
    "species_pairs = [\n",
    "    (adelie, chinstrap, \"Setosa vs Versicolor\"),\n",
    "    (adelie, gentoo, \"Setosa vs Virginica\"),\n",
    "    (chinstrap, gentoo, \"Versicolor vs Virginica\")\n",
    "]\n",
    "\n",
    "for X1, X2, name in species_pairs:\n",
    "    F_total, F_det = compare_covariance(X1, X2)\n",
    "    print(f\"\\n{name}:\")\n",
    "    print(f\"Total variance ratio: {F_total:.4f}\")\n",
    "    print(f\"Determinant ratio: {F_det:.4f}\")\n",
    "    \n"
   ]
  },
  {
   "cell_type": "markdown",
   "metadata": {},
   "source": [
    "\n",
    "\n",
    "## Problem 4: Simulation Study\n",
    "\n",
    "Design a simulation to study how sample size affects covariance estimation:\n",
    "\n",
    "a) Generate synthetic data from a known covariance matrix.<br />\n",
    "b) Vary the sample size from 10 to 1000.<br />\n",
    "c) Plot the error in estimated:<br />\n",
    "   * Eigenvalues\n",
    "   * Eigenvectors\n",
    "   * F-statistics\n",
    "   \n",
    "d) At what sample size do estimates stabilize?"
   ]
  },
  {
   "cell_type": "code",
   "execution_count": 45,
   "metadata": {},
   "outputs": [
    {
     "data": {
      "image/png": "[encoded data removed]",
      "text/plain": [
       "<Figure size 640x480 with 1 Axes>"
      ]
     },
     "metadata": {},
     "output_type": "display_data"
    }
   ],
   "source": [
    "def simulation_study(true_cov, sample_sizes, n_trials=100):\n",
    "    errors = []\n",
    "    for n in sample_sizes:\n",
    "        trial_errors = []\n",
    "        for _ in range(n_trials):\n",
    "            # Generate samples\n",
    "            X = np.random.multivariate_normal(\n",
    "                mean=np.zeros(2),\n",
    "                cov=true_cov,\n",
    "                size=n\n",
    "            )\n",
    "            # Compute sample covariance\n",
    "            sample_cov = np.cov(X.T)\n",
    "            # Compute error\n",
    "            error = np.linalg.norm(sample_cov - true_cov)\n",
    "            trial_errors.append(error)\n",
    "        errors.append(np.mean(trial_errors))\n",
    "    return np.array(errors)\n",
    "\n",
    "# Run simulation\n",
    "sample_sizes = np.logspace(1, 3, 20).astype(int)\n",
    "true_cov = np.array([[3.116, 0], [0, 0.039]])\n",
    "errors = simulation_study(true_cov, sample_sizes)\n",
    "\n",
    "# Plot results\n",
    "plt.semilogx(sample_sizes, errors)\n",
    "plt.xlabel('Sample Size (log scale)')\n",
    "plt.ylabel('Frobenius Error')\n",
    "plt.grid(True)"
   ]
  },
  {
   "cell_type": "markdown",
   "metadata": {},
   "source": [
    "Key findings:\n",
    "1. Errors decrease approximately as 1/√n\n",
    "2. Estimates stabilize around n=200\n",
    "3. Smaller eigenvalue needs larger samples\n",
    "4. Measurement noise becomes limiting factor"
   ]
  }
 ],
 "metadata": {
  "kernelspec": {
   "display_name": "Python 3",
   "language": "python",
   "name": "python3"
  },
  "language_info": {
   "codemirror_mode": {
    "name": "ipython",
    "version": 3
   },
   "file_extension": ".py",
   "mimetype": "text/x-python",
   "name": "python",
   "nbconvert_exporter": "python",
   "pygments_lexer": "ipython3",
   "version": "3.12.4"
  }
 },
 "nbformat": 4,
 "nbformat_minor": 2
}
