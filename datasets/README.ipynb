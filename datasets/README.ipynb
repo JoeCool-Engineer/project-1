{
 "cells": [
  {
   "cell_type": "markdown",
   "metadata": {},
   "source": [
    "# Project 1 Datasets\n",
    "\n",
    "This directory contains synthetic datasets for exploring SVD analysis and covariance estimation.\n",
    "\n",
    "## Dataset Descriptions\n",
    "\n",
    "### 1. Stock Returns Data (`stock_returns.csv`)\n",
    "- Daily returns from correlated stocks\n",
    "- Correlation structure mimics market sectors\n",
    "- Good for portfolio analysis\n",
    "- Properties:\n",
    "  * 1000 trading days\n",
    "  * 10 stocks\n",
    "  * Sector-based correlations\n",
    "\n",
    "### 2. Sensor Readings Data (`sensor_readings.csv`)\n",
    "- IoT sensor measurements\n",
    "- Different physical quantities (temperature, pressure, etc.)\n",
    "- Demonstrates unit scaling challenges\n",
    "- Properties:\n",
    "  * 1000 timestamps\n",
    "  * 10 sensors\n",
    "  * Various physical units\n",
    "\n",
    "### 3. Image Features Data (`image_features.csv`)\n",
    "- Underlying low-rank structure with noise\n",
    "- Known rank = 3\n",
    "- Tests dimensionality reduction\n",
    "- Properties:\n",
    "  * 1000 samples\n",
    "  * 10 features\n",
    "  * Rank 3 plus noise\n",
    "\n",
    "## Usage\n",
    "\n",
    "These datasets are designed to demonstrate different aspects of SVD analysis:\n",
    "\n",
    "1. Correlated data shows how covariance structure affects principal components\n",
    "2. Scale-varying data demonstrates the importance of normalization\n",
    "3. Low-rank data illustrates dimensionality reduction\n",
    "\n",
    "## Generation\n",
    "\n",
    "Datasets are generated using `generate_datasets.py`. To regenerate:\n",
    "\n",
    "```bash\n",
    "python generate_datasets.py\n",
    "```\n"
   ]
  }
 ],
 "metadata": {
  "language_info": {
   "name": "python"
  }
 },
 "nbformat": 4,
 "nbformat_minor": 2
}
